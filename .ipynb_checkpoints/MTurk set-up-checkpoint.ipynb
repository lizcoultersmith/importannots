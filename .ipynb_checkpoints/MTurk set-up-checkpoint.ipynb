{
 "cells": [
  {
   "cell_type": "raw",
   "metadata": {},
   "source": [
    "Set-up MTURK: \n",
    "\n",
    "an explanation of how AWS credential files work https://docs.aws.amazon.com/sdk-for-php/v3/developer-guide/guide_credentials_profiles.html\n",
    "(This says it's for the php sdk, but the credential file works the same for Python)\n",
    "other resources:\n",
    "https://docs.aws.amazon.com/sdk-for-java/v1/developer-guide/setup-credentials.html\n",
    "https://docs.aws.amazon.com/cli/latest/topic/config-vars.html\n",
    "\n",
    "In summary:\n",
    "\n",
    "edit the file ~/.aws/config to add your username profile. There are two ways to do this:\n",
    "(1) directly edit ~/.aws/config or\n",
    "(2) run: aws configure --profile \"your username\"\n",
    "(prereq: pip install awscli)\n",
    "\n",
    "A sample config file for reference: \n",
    " output=json\n",
    " region=us-east-1\n",
    " aws_access_key_id=foo\n",
    " aws_secret_access_key=bar"
   ]
  },
  {
   "cell_type": "raw",
   "metadata": {},
   "source": [
    "source: https://github.com/a-newman/mturk-template/blob/master/mturk/mturk.ipynb\n",
    "\n",
    "check Camilo's notebook: https://github.com/diviz-mit/predimportance/blob/master/notebooks/mturk_handler_importance_labeling.ipynb"
   ]
  },
  {
   "cell_type": "code",
   "execution_count": 5,
   "metadata": {},
   "outputs": [],
   "source": [
    "# path to the config file (see example). \n",
    "# will work with a config file for https://github.com/kimberli/mturk-template, \n",
    "# but a minimal example is included.\n",
    "# Also supports an additional feature, the \"variants\" key, which is a list of dictionaries. \n",
    "# If \"variants\" is specified, for each dictionary it contains, those keys will be meshed with the \"hitCreation\"\n",
    "# key and one task will be made per variant. Else, config[\"hitCreation\"][\"numTasks\"] versions of the same\n",
    "# task will be launched. \n",
    "CONFIG_PATH = \"./config.json\"\n",
    "\n",
    "# where to save downloaded results \n",
    "SAVE_PATH = \".\""
   ]
  },
  {
   "cell_type": "code",
   "execution_count": 6,
   "metadata": {},
   "outputs": [
    {
     "name": "stdout",
     "output_type": "stream",
     "text": [
      "USING SANDBOX\n",
      "TASK URL: https://cfosco.github.io/mturk-importance/?origin=sandbox\n"
     ]
    }
   ],
   "source": [
    "import boto3\n",
    "import json\n",
    "import copy\n",
    "\n",
    "_USING_PROD = None\n",
    "\n",
    "with open(CONFIG_PATH, 'r') as f:\n",
    "    config = json.loads(f.read())\n",
    "    hit_config = config['hitCreation']\n",
    "    url = hit_config['taskUrl']\n",
    "\n",
    "if hit_config['production']:\n",
    "    print(\"USING PROD\")\n",
    "    _USING_PROD = True\n",
    "    endpoint_url = 'https://mturk-requester.us-east-1.amazonaws.com'\n",
    "    origin=\"production\"\n",
    "else:\n",
    "    print(\"USING SANDBOX\")\n",
    "    _USING_PROD = False\n",
    "    endpoint_url = 'https://mturk-requester-sandbox.us-east-1.amazonaws.com'\n",
    "    origin=\"sandbox\"\n",
    "    \n",
    "hit_url = \"%s?origin=%s\" % (url, origin)\n",
    "\n",
    "session = boto3.session.Session(profile_name='default')\n",
    "cl = session.client('mturk', region_name='us-east-1', endpoint_url=endpoint_url)\n",
    "\n",
    "print(\"TASK URL: \" + hit_url)"
   ]
  },
  {
   "cell_type": "code",
   "execution_count": 7,
   "metadata": {},
   "outputs": [],
   "source": [
    "\n",
    "# Safety flags that prevent you from accidentally messing up your HITs. \n",
    "# Set to False except when you are performing these specific tasks. \n",
    "ALLOW_HIT_CREATION = True\n",
    "ALLOW_ASSIGNMENT_ADDITION = False\n",
    "ALLOW_CREATE_QUAL = False\n",
    "ALLOW_UPDATE_EXPIRATION = False"
   ]
  },
  {
   "cell_type": "code",
   "execution_count": 8,
   "metadata": {},
   "outputs": [],
   "source": [
    "\n",
    "# List of qualifications that you will use to filter potential workers. \n",
    "# These require that workers come from the US and have an approval rating >= 95%\n",
    "QUALS = [\n",
    "       {\n",
    "           'QualificationTypeId': '00000000000000000071',\n",
    "           'Comparator': 'EqualTo',\n",
    "           'LocaleValues': [{\n",
    "               'Country': 'US',\n",
    "           }],\n",
    "       },\n",
    "        \n",
    "       {\n",
    "           'QualificationTypeId': '000000000000000000L0',\n",
    "           'Comparator': 'GreaterThanOrEqualTo',\n",
    "           'IntegerValues': [\n",
    "               95\n",
    "           ],\n",
    "       },\n",
    "    ]"
   ]
  },
  {
   "cell_type": "code",
   "execution_count": 9,
   "metadata": {},
   "outputs": [],
   "source": [
    "# Helpers for creating HITs. \n",
    "\n",
    "# generic helper that sets metadata fields based on the config file.\n",
    "def create_hit(task, questionText, quals=QUALS): \n",
    "    response = cl.create_hit(\n",
    "        MaxAssignments=task['numAssignments'],\n",
    "        AutoApprovalDelayInSeconds=604800,\n",
    "        LifetimeInSeconds=task['lifetime'],\n",
    "        AssignmentDurationInSeconds=task['duration'],\n",
    "        Reward=task['rewardAmount'],\n",
    "        Title=task['title'],\n",
    "        Keywords=task['keywords'],\n",
    "        Description=task['description'],\n",
    "        Question=questionText,\n",
    "        QualificationRequirements=quals,\n",
    "    )\n",
    "    print(response)\n",
    "    print(\"\\n\")\n",
    "\n",
    "# creates a HIT in the form of an External Question inside an iFrame\n",
    "def create_hit_iframe(task):\n",
    "    questionText = \"<ExternalQuestion xmlns=\\\"http://mechanicalturk.amazonaws.com/AWSMechanicalTurkDataSchemas/\"\n",
    "    questionText += \"2006-07-14/ExternalQuestion.xsd\\\">\\n<ExternalURL>\" + task['taskUrl']\n",
    "    questionText += \"</ExternalURL>\\n  <FrameHeight>700</FrameHeight>\\n</ExternalQuestion>\"\n",
    "    create_hit(task, questionText)\n",
    "    \n",
    "# Helper to create a HIT in the form of a simple UI with a link to an external page and an\n",
    "# input box for a completion code \n",
    "def create_hit_external(task):\n",
    "    with open('questionform_template.xml', 'r') as myfile:\n",
    "        template=myfile.read() \n",
    "    question_xml = template % (hit_config[\"title\"], hit_config[\"description\"], hit_url)\n",
    "    create_hit(task, question_xml)"
   ]
  },
  {
   "cell_type": "code",
   "execution_count": 10,
   "metadata": {},
   "outputs": [
    {
     "ename": "NameError",
     "evalue": "name 'external_submit' is not defined",
     "output_type": "error",
     "traceback": [
      "\u001b[0;31m---------------------------------------------------------------------------\u001b[0m",
      "\u001b[0;31mNameError\u001b[0m                                 Traceback (most recent call last)",
      "\u001b[0;32m<ipython-input-10-f878773a3607>\u001b[0m in \u001b[0;36m<module>\u001b[0;34m\u001b[0m\n\u001b[1;32m      5\u001b[0m         \u001b[0;32mraise\u001b[0m \u001b[0mRuntimeError\u001b[0m\u001b[0;34m(\u001b[0m\u001b[0;34m\"You must specify either hitCreation.numTasks or hitCreation.variants in your config.json file\"\u001b[0m\u001b[0;34m)\u001b[0m\u001b[0;34m\u001b[0m\u001b[0;34m\u001b[0m\u001b[0m\n\u001b[1;32m      6\u001b[0m \u001b[0;34m\u001b[0m\u001b[0m\n\u001b[0;32m----> 7\u001b[0;31m     \u001b[0mhit_creation_function\u001b[0m \u001b[0;34m=\u001b[0m \u001b[0mcreate_hit_external\u001b[0m \u001b[0;32mif\u001b[0m \u001b[0mexternal_submit\u001b[0m \u001b[0;32melse\u001b[0m \u001b[0mcreate_hit_iframe\u001b[0m\u001b[0;34m\u001b[0m\u001b[0;34m\u001b[0m\u001b[0m\n\u001b[0m\u001b[1;32m      8\u001b[0m \u001b[0;34m\u001b[0m\u001b[0m\n\u001b[1;32m      9\u001b[0m     \u001b[0;32mif\u001b[0m \u001b[0mhit_config\u001b[0m\u001b[0;34m.\u001b[0m\u001b[0mget\u001b[0m\u001b[0;34m(\u001b[0m\u001b[0;34m'numTasks'\u001b[0m\u001b[0;34m,\u001b[0m \u001b[0;32mFalse\u001b[0m\u001b[0;34m)\u001b[0m\u001b[0;34m:\u001b[0m\u001b[0;34m\u001b[0m\u001b[0;34m\u001b[0m\u001b[0m\n",
      "\u001b[0;31mNameError\u001b[0m: name 'external_submit' is not defined"
     ]
    }
   ],
   "source": [
    "\n",
    "# Use this cell to launch your HIT! \n",
    "if ALLOW_HIT_CREATION: \n",
    "    if not (hit_config.get('variants', False) or hit_config.get('numTasks', False)): \n",
    "        raise RuntimeError(\"You must specify either hitCreation.numTasks or hitCreation.variants in your config.json file\")\n",
    "    \n",
    "    hit_creation_function = create_hit_external if external_submit else create_hit_iframe\n",
    "    \n",
    "    if hit_config.get('numTasks', False): \n",
    "        print(\"creating \" + str(hit_config['numTasks']) + \" tasks\")\n",
    "        for i in range(hit_config['numTasks']):\n",
    "            hit_creation_function(hit_config)\n",
    "    else: \n",
    "        print(\"creating \" + str(len(config['variants'])) + \" variants\")\n",
    "        for var in hit_config['variants']: \n",
    "            task = copy.deepcopy(config)\n",
    "            task.update(var)\n",
    "            hit_creation_function(task)\n",
    "else: \n",
    "    raise RuntimeError(\"This action is not currently enabled; set `ALLOW_HIT_CREATION` to true to proceed with this action\")"
   ]
  },
  {
   "cell_type": "code",
   "execution_count": null,
   "metadata": {},
   "outputs": [],
   "source": []
  }
 ],
 "metadata": {
  "kernelspec": {
   "display_name": "Python 3",
   "language": "python",
   "name": "python3"
  },
  "language_info": {
   "codemirror_mode": {
    "name": "ipython",
    "version": 3
   },
   "file_extension": ".py",
   "mimetype": "text/x-python",
   "name": "python",
   "nbconvert_exporter": "python",
   "pygments_lexer": "ipython3",
   "version": "3.7.3"
  }
 },
 "nbformat": 4,
 "nbformat_minor": 2
}
