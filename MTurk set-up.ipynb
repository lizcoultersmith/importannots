{
 "cells": [
  {
   "cell_type": "markdown",
   "metadata": {},
   "source": [
    "# Introduction #\n",
    "This notebook will walk you through creating and monitoring HITs, specifically for the importance labeling task.\n",
    "\n",
    "It provides methods to create HITs, pretty-print HIT and assignment status, expire/edit HITs, create qualifications, and download collected data.\n",
    "\n",
    "Before continuing, make sure that you have read the README and set all config fields to their desired values.\n",
    "\n",
    "### Requirements: ###\n",
    "This code requires Python3 and the following packages:\n",
    "* boto3\n",
    "* beautiful soup 4"
   ]
  },
  {
   "cell_type": "markdown",
   "metadata": {},
   "source": [
    "# Setup MTURK #"
   ]
  },
  {
   "cell_type": "markdown",
   "metadata": {},
   "source": [
    "Before using this code, you will have to set up an authentication key to use the Amazon API and include it in a credentials file. See here: https://aws.amazon.com/developers/getting-started/python/\n",
    "\n",
    "an explanation of how AWS credential files work https://docs.aws.amazon.com/sdk-for-php/v3/developer-guide/guide_credentials_profiles.html\n",
    "(This says it's for the php sdk, but the credential file works the same for Python)\n",
    "other resources:\n",
    "https://docs.aws.amazon.com/sdk-for-java/v1/developer-guide/setup-credentials.html\n",
    "https://docs.aws.amazon.com/cli/latest/topic/config-vars.html\n",
    "\n",
    "In summary:\n",
    "\n",
    "edit the file ~/.aws/config to add your username profile. There are two ways to do this:\n",
    "1. directly edit ~/.aws/config or\n",
    "2. run: aws configure --profile \"your username\"\n",
    "(prereq: pip install awscli)\n",
    "\n",
    "A sample config file for reference:\n",
    "\n",
    "    output=json\n",
    "    region=us-east-1\n",
    "    aws_access_key_id=foo\n",
    "    aws_secret_access_key=bar"
   ]
  },
  {
   "cell_type": "markdown",
   "metadata": {},
   "source": [
    "Sources for this file:\n",
    "* https://github.com/a-newman/mturk-template/blob/master/mturk/mturk.ipynb\n",
    "* https://github.com/diviz-mit/predimportance/blob/master/notebooks/mturk_handler_importance_labeling.ipynb"
   ]
  },
  {
   "cell_type": "markdown",
   "metadata": {},
   "source": [
    "# Imports #"
   ]
  },
  {
   "cell_type": "code",
   "execution_count": 1,
   "metadata": {},
   "outputs": [],
   "source": [
    "import datetime\n",
    "import boto3\n",
    "import json\n",
    "import copy\n",
    "import pprint\n",
    "import os\n",
    "from bs4 import BeautifulSoup as bs \n",
    "from uuid import uuid4"
   ]
  },
  {
   "cell_type": "markdown",
   "metadata": {},
   "source": [
    "# Setup Connection to MTURK #\n",
    "Read the config file and establish a connection to MTurk.\n",
    "A connection is made to production or to the sandbox based on values in the config."
   ]
  },
  {
   "cell_type": "code",
   "execution_count": 2,
   "metadata": {},
   "outputs": [],
   "source": [
    "# Path to the config file\n",
    "CONFIG_PATH = \"./config.json\"\n",
    "\n",
    "# Path to the html task\n",
    "TASK_PATH = \".\"\n",
    "\n",
    "# where to save downloaded results \n",
    "SAVE_PATH = \"./result.csv\" \n",
    "\n",
    "REGION = \"us-east-1\" # same as in your ~/.aws/config file above\n",
    "\n",
    "# Safety flags that prevent you from accidentally messing up your HITs. \n",
    "# Set to False except when you are performing these specific tasks. \n",
    "ALLOW_HIT_CREATION = True\n",
    "ALLOW_ASSIGNMENT_ADDITION = True\n",
    "ALLOW_CREATE_QUAL = True\n",
    "ALLOW_UPDATE_EXPIRATION = True\n",
    "\n",
    "# Sandbox or Production? You only spend money in Production.\n",
    "USING_PROD = False"
   ]
  },
  {
   "cell_type": "code",
   "execution_count": 3,
   "metadata": {},
   "outputs": [
    {
     "name": "stdout",
     "output_type": "stream",
     "text": [
      "USING SANDBOX\n",
      "Configuring task as an iframe within Mturk\n",
      "Establishing connection with MTurk... Success.\n"
     ]
    }
   ],
   "source": [
    "# Read config and extract relevant settings\n",
    "with open(CONFIG_PATH, 'r') as f:\n",
    "    config = json.loads(f.read())\n",
    "    \n",
    "hit_config = config['hitCreation']\n",
    "\n",
    "external_submit = config['advanced']['externalSubmit']\n",
    "    \n",
    "#USING_PROD = hit_config['production'] # <- read this from the config file\n",
    "\n",
    "if USING_PROD:\n",
    "    print(\"USING PROD\")\n",
    "    endpoint_url = 'https://mturk-requester.%s.amazonaws.com'%(REGION)\n",
    "    origin=\"production\"\n",
    "else:\n",
    "    print(\"USING SANDBOX\")\n",
    "    endpoint_url = 'https://mturk-requester-sandbox.%s.amazonaws.com'%(REGION)\n",
    "    origin=\"sandbox\"\n",
    "\n",
    "# If using an external link, add a querystring origin=sandbox or origin=production \n",
    "# for use in your js logic if you want. Not done for MTurk submits because it breaks the submit link\n",
    "if external_submit: \n",
    "    hit_config['taskUrl'] = \"%s?origin=%s\" % (hit_config['taskUrl'], origin)\n",
    "\n",
    "if external_submit:\n",
    "    print(\"Configuring task as external link with data submitted to: %s\" % config['advanced']['externalSubmitUrl'])\n",
    "else:\n",
    "    print(\"Configuring task as an iframe within Mturk\")\n",
    "\n",
    "print('Establishing connection with MTurk...', end =\" \")\n",
    "session = boto3.session.Session(profile_name='default')\n",
    "cl = session.client('mturk', region_name=REGION, endpoint_url=endpoint_url)\n",
    "print('Success.')"
   ]
  },
  {
   "cell_type": "markdown",
   "metadata": {},
   "source": [
    "# Define task URL with folds to use in HIT #\n",
    "The folds are txt files containing paths to the images to be used in the hit. This notebooks allows for creation of multiple hits, each with a different fold.txt .\n",
    "In the folder \"files\", multiple txt files (folds) can be found. Each one contains 10 images, and there are no repeats among folds. Each fold has a piece of the full canva_scraping2 dataset."
   ]
  },
  {
   "cell_type": "code",
   "execution_count": 4,
   "metadata": {},
   "outputs": [
    {
     "name": "stdout",
     "output_type": "stream",
     "text": [
      "Using default fold: natimgs35_0.txt\n",
      "TASK URL: https://cfosco.github.io/mturk-importance/?url=natimgs35_0.txt?assignmentId=''\n"
     ]
    }
   ],
   "source": [
    "# Whether to launch a hit per fold.txt in folder \"files\"\n",
    "LAUNCH_HITS_FOR_ALL_FOLDS = False\n",
    "#FOLD_REQ_STR = 'imp600_webpages'\n",
    "\n",
    "# If need to manually specify fold, can be done here\n",
    "USE_DEFAULT_FOLD = True # use the fold name specified in the config.json file\n",
    "fld = 'sentinel_short.txt' # specify this if USE_DEFAULT_FOLD is False\n",
    "\n",
    "if LAUNCH_HITS_FOR_ALL_FOLDS:\n",
    "    all_folds = [f for f in os.listdir(os.path.join(TASK_PATH,'files')) if FOLD_REQ_STR in f]        \n",
    "    print('Using folds:',all_folds)\n",
    "    print('Num folds to use:', len(all_folds))\n",
    "else:\n",
    "    if USE_DEFAULT_FOLD:\n",
    "        if hit_config['fold']:\n",
    "            taskURL = hit_config['taskUrl'] + \"?url=%s\" % hit_config['fold']\n",
    "            print('Using default fold:',hit_config['fold'])\n",
    "        else:\n",
    "            print('Fold not provided in config.json. Set USE_DEFAULT_FOLD to False.')\n",
    "    elif fld:\n",
    "        taskURL = hit_config['taskUrl'] + \"?url=%s\" % fld\n",
    "    else:\n",
    "        fld = input('Define fold (input name+.txt)')\n",
    "        taskURL = hit_config['taskUrl'] + \"?url=%s\" % fld    \n",
    "\n",
    "hit_config['taskUrl'] = taskURL\n",
    "print(\"TASK URL:\", hit_config['taskUrl']+\"?assignmentId=''\")"
   ]
  },
  {
   "cell_type": "markdown",
   "metadata": {},
   "source": [
    "# Make new HIT #"
   ]
  },
  {
   "cell_type": "markdown",
   "metadata": {},
   "source": [
    "### Set worker qualifications ###"
   ]
  },
  {
   "cell_type": "code",
   "execution_count": 5,
   "metadata": {},
   "outputs": [],
   "source": [
    "# List of qualifications that you will use to filter potential workers. \n",
    "# These require that workers come from the US and have an approval rating >= 95%\n",
    "# Edit this list to specify different qualifications for workers \n",
    "QUALS = [\n",
    "    {\n",
    "        'QualificationTypeId': '00000000000000000071',\n",
    "        'Comparator': 'EqualTo',\n",
    "        'LocaleValues': [{\n",
    "            'Country': 'US',\n",
    "        }],\n",
    "    },\n",
    "    {\n",
    "        'QualificationTypeId': '000000000000000000L0',\n",
    "        'Comparator': 'GreaterThanOrEqualTo',\n",
    "        'IntegerValues': [\n",
    "            95\n",
    "        ],\n",
    "    },\n",
    "]"
   ]
  },
  {
   "cell_type": "markdown",
   "metadata": {},
   "source": [
    "### Helpers for creating HITs ### "
   ]
  },
  {
   "cell_type": "code",
   "execution_count": 6,
   "metadata": {},
   "outputs": [],
   "source": [
    "# generic helper that sets metadata fields based on the config file.\n",
    "def create_hit(task, questionText, quals=QUALS): \n",
    "    response = cl.create_hit(\n",
    "        MaxAssignments=task['numAssignments'],\n",
    "        AutoApprovalDelayInSeconds=604800,\n",
    "        LifetimeInSeconds=task['lifetime'],\n",
    "        AssignmentDurationInSeconds=task['duration'],\n",
    "        Reward=task['rewardAmount'],\n",
    "        Title=task['title'],\n",
    "        Keywords=task['keywords'],\n",
    "        Description=task['description'],\n",
    "        Question=questionText,\n",
    "        QualificationRequirements=quals,\n",
    "    )\n",
    "    print(response)\n",
    "    print(\"\\n\")\n",
    "\n",
    "# creates a HIT in the form of an External Question inside an iFrame\n",
    "def create_hit_iframe(task):\n",
    "    questionText = \"<ExternalQuestion xmlns=\\\"http://mechanicalturk.amazonaws.com/AWSMechanicalTurkDataSchemas/\"\n",
    "    questionText += \"2006-07-14/ExternalQuestion.xsd\\\">\\n<ExternalURL>\" + task['taskUrl']\n",
    "    questionText += \"</ExternalURL>\\n  <FrameHeight>700</FrameHeight>\\n</ExternalQuestion>\"\n",
    "    create_hit(task, questionText)\n",
    "    \n",
    "# Helper to create a HIT in the form of a simple UI with a link to an external page and an\n",
    "# input box for a completion code \n",
    "def create_hit_external(task):\n",
    "    with open('questionform_template.xml', 'r') as myfile:\n",
    "        template=myfile.read() \n",
    "    question_xml = template % (hit_config[\"title\"], hit_config[\"description\"], task['taskUrl'])\n",
    "    create_hit(task, question_xml)"
   ]
  },
  {
   "cell_type": "markdown",
   "metadata": {},
   "source": [
    "### Launch your HIT ###"
   ]
  },
  {
   "cell_type": "code",
   "execution_count": 29,
   "metadata": {},
   "outputs": [
    {
     "name": "stdout",
     "output_type": "stream",
     "text": [
      "creating 1 tasks\n",
      "{'HIT': {'HITId': '37VUR2VJ6AY7K9QQF727D9UTNKTC1S', 'HITTypeId': '30NHI4EO3UD99GICXIW3TB0XNEGBTG', 'HITGroupId': '35VN5BQM7UBVL5VR9SWFEM6SUT0J5Q', 'CreationTime': datetime.datetime(2019, 5, 29, 11, 56, 12, tzinfo=tzlocal()), 'Title': 'Annotate the most important regions on graphic designs', 'Description': 'Manually highlight the important parts of a graphic design. You will be shown a set of 10 to 15 images, and you will have to indicate which parts feel important to you.', 'Question': '<ExternalQuestion xmlns=\"http://mechanicalturk.amazonaws.com/AWSMechanicalTurkDataSchemas/2006-07-14/ExternalQuestion.xsd\">\\n<ExternalURL>https://cfosco.github.io/mturk-importance/?url=natimgs35_0.txt</ExternalURL>\\n  <FrameHeight>700</FrameHeight>\\n</ExternalQuestion>', 'Keywords': 'labeling, importance, highlighting, graphic, designs, images', 'HITStatus': 'Assignable', 'MaxAssignments': 1, 'Reward': '0.85', 'AutoApprovalDelayInSeconds': 604800, 'Expiration': datetime.datetime(2019, 5, 31, 15, 42, 52, tzinfo=tzlocal()), 'AssignmentDurationInSeconds': 1200, 'QualificationRequirements': [{'QualificationTypeId': '00000000000000000071', 'Comparator': 'EqualTo', 'LocaleValues': [{'Country': 'US'}], 'RequiredToPreview': False, 'ActionsGuarded': 'Accept'}, {'QualificationTypeId': '000000000000000000L0', 'Comparator': 'GreaterThanOrEqualTo', 'IntegerValues': [95], 'RequiredToPreview': False, 'ActionsGuarded': 'Accept'}], 'HITReviewStatus': 'NotReviewed', 'NumberOfAssignmentsPending': 0, 'NumberOfAssignmentsAvailable': 1, 'NumberOfAssignmentsCompleted': 0}, 'ResponseMetadata': {'RequestId': 'd9fd3307-cfa0-4bc8-bf2a-a888f82a6a55', 'HTTPStatusCode': 200, 'HTTPHeaders': {'x-amzn-requestid': 'd9fd3307-cfa0-4bc8-bf2a-a888f82a6a55', 'content-type': 'application/x-amz-json-1.1', 'content-length': '1408', 'date': 'Wed, 29 May 2019 15:56:12 GMT'}, 'RetryAttempts': 0}}\n",
      "\n",
      "\n"
     ]
    }
   ],
   "source": [
    "if ALLOW_HIT_CREATION: \n",
    "    if not (hit_config.get('variants', False) or hit_config.get('numTasks', False)): \n",
    "        raise RuntimeError(\"You must specify either hitCreation.numTasks or hitCreation.variants in your config.json file\")\n",
    "    \n",
    "    hit_creation_function = create_hit_external if external_submit else create_hit_iframe\n",
    "    \n",
    "    if LAUNCH_HITS_FOR_ALL_FOLDS:\n",
    "        print(\"creating\", len(all_folds), \"tasks\")\n",
    "        for fold in all_folds:\n",
    "            hit_config['taskUrl'] = hit_config['taskUrl'].split('?')[0] + \"?url=%s\" % fold\n",
    "            hit_creation_function(hit_config)\n",
    "    \n",
    "    elif hit_config.get('numTasks', False): \n",
    "        print(\"creating \" + str(hit_config['numTasks']) + \" tasks\")\n",
    "        for i in range(hit_config['numTasks']):\n",
    "            hit_creation_function(hit_config)\n",
    "    else: \n",
    "        print(\"creating \" + str(len(config['variants'])) + \" variants\")\n",
    "        for var in hit_config['variants']: \n",
    "            task = copy.deepcopy(config)\n",
    "            task.update(var)\n",
    "            hit_creation_function(task)\n",
    "    \n",
    "else: \n",
    "    raise RuntimeError(\"This action is not currently enabled; set `ALLOW_HIT_CREATION` to true to proceed with this action\")"
   ]
  },
  {
   "cell_type": "code",
   "execution_count": 30,
   "metadata": {},
   "outputs": [
    {
     "name": "stdout",
     "output_type": "stream",
     "text": [
      "Try this link:\n",
      "https://workersandbox.mturk.com/?filters%5Bsearch_term%5D=Annotate+the+most+important+regions+on+graphic+designs\n",
      "Otherwise, try searching for the task by username/title here: https://workersandbox.mturk.com/\n"
     ]
    }
   ],
   "source": [
    "if USING_PROD:\n",
    "    print('Search for the task by username/title here: https://worker.mturk.com/')\n",
    "else:\n",
    "    searchtitle = config['hitCreation']['title'].replace(' ','+')\n",
    "    print('Try this link:')\n",
    "    print('https://workersandbox.mturk.com/?filters%%5Bsearch_term%%5D=%s'%(searchtitle))\n",
    "    print('Otherwise, try searching for the task by username/title here: https://workersandbox.mturk.com/')"
   ]
  },
  {
   "cell_type": "markdown",
   "metadata": {},
   "source": [
    "## HIT MONITORING ##\n",
    "\n",
    "### Helpers for monitoring HITs ###\n",
    "Helper functions that will be useful for monitoring the status of your HIT. See next section for how to use them."
   ]
  },
  {
   "cell_type": "code",
   "execution_count": 40,
   "metadata": {},
   "outputs": [],
   "source": [
    "# Contacts MTurk API to get all assignments for a HIT\n",
    "# Returns them in a list. \n",
    "def get_all_assignments(hitid): \n",
    "    assignments = []\n",
    "    should_continue = True\n",
    "    next_token = False\n",
    "    while (should_continue): \n",
    "        args = {\n",
    "            'HITId': hitid, \n",
    "            'MaxResults': 100\n",
    "        }\n",
    "        if (next_token): \n",
    "            args['NextToken'] = next_token\n",
    "        r = cl.list_assignments_for_hit(**args)\n",
    "        next_token = r.get('NextToken', False)\n",
    "        assignments.extend(r[\"Assignments\"])\n",
    "        should_continue = len(r[\"Assignments\"]) > 0\n",
    "    return assignments\n",
    "\n",
    "\n",
    "def get_hits(max_results=200):\n",
    "    hits = []\n",
    "    mr = min(max_results, 100)\n",
    "    should_continue = True\n",
    "    next_token=False\n",
    "    c=0\n",
    "    while(should_continue):\n",
    "        args = {\n",
    "            'MaxResults': mr\n",
    "        }\n",
    "        if (next_token): \n",
    "            args['NextToken'] = next_token\n",
    "        r = cl.list_hits(**args)\n",
    "        next_token = r.get('NextToken', False)\n",
    "        hits.extend(r[\"HITs\"])\n",
    "        c += len(r[\"HITs\"])\n",
    "        should_continue = next_token and (c<max_results)\n",
    "#         mr = mr-100\n",
    "    return hits\n",
    "\n",
    "# Summarizes all hits in `hits` in a human-readable way. \n",
    "# Prints out the HIT Title, id, if it is expired, and how many assignments it has\n",
    "# completed, pending, and left for work. \n",
    "def summarize_hits(hits, get_submitted=True): \n",
    "    print(len(hits))\n",
    "    ret = \"\"\n",
    "    for hit in hits: \n",
    "        expiration = hit['Expiration'].replace(tzinfo=None)\n",
    "        is_expired = expiration < datetime.datetime.now()\n",
    "        description = (\"Title: {title}\\n\" \n",
    "        \"ID: {hid}\\n\"\n",
    "        \"\\tAssignments left: {left}\\n\"\n",
    "        \"\\tAssignments completed: {complete}\\n\"\n",
    "        \"\\tAssignments pending: {pending}\\n\"\n",
    "        ).format(\n",
    "            title=hit['Title'], \n",
    "            hid=hit['HITId'], \n",
    "            left=hit['NumberOfAssignmentsAvailable'], \n",
    "            complete=hit['NumberOfAssignmentsCompleted'], \n",
    "            pending=hit['NumberOfAssignmentsPending']\n",
    "            \n",
    "        )\n",
    "        \n",
    "        if get_submitted:\n",
    "            submitted=0\n",
    "            assignments = get_all_assignments(hit['HITId'])\n",
    "            if assignments:\n",
    "                for a in assignments: \n",
    "                    if a['AssignmentStatus'] == 'Submitted':\n",
    "                        submitted+=1\n",
    "                    \n",
    "            description+='\\tAssignments submitted: %d\\n' % submitted\n",
    "        \n",
    "        description += \"\\tExpired: {exp}\\n\\n\".format(exp=str(is_expired))\n",
    "        \n",
    "        ret += description\n",
    "    print(ret)\n",
    "    \n",
    "# Prints a human-readable summary of all pending/submitted/approved assignments for all hits in `hits`\n",
    "def summarize_assignments(hits):\n",
    "    ret = \"\"\n",
    "    for hit in hits: \n",
    "        hid = hit['HITId']\n",
    "        title =  hit['Title']\n",
    "        name = \"HIT %s: %s\" % (hid, title)\n",
    "        ret += name + \"\\n\"\n",
    "        assignments = get_all_assignments(hid)\n",
    "        if len(assignments) == 0: \n",
    "            ret += \"\\tNo pending/submitted/approved assignments for this HIT\\n\"\n",
    "        for a in assignments: \n",
    "            desc = \"\\tAssignment {aid}\\n\\t\\tStatus: {status}\\n\".format(aid=a['AssignmentId'], status=a['AssignmentStatus'])\n",
    "            ret += desc\n",
    "    print(ret)\n",
    "    \n",
    "# Refreshes data about the requested hits\n",
    "def refresh_hits(): \n",
    "    global hits \n",
    "    global MAX_RESULTS\n",
    "    hits = cl.list_hits(MaxResults=MAX_RESULTS)['HITs']"
   ]
  },
  {
   "cell_type": "code",
   "execution_count": 41,
   "metadata": {},
   "outputs": [
    {
     "name": "stdout",
     "output_type": "stream",
     "text": [
      "3\n"
     ]
    }
   ],
   "source": [
    "# API call to grab HIT data from MTurk \n",
    "MAX_RESULTS = 3 # set equal to the number of outstanding hits you have \n",
    "#hits = get_hits(max_results=MAX_RESULTS)\n",
    "hits = cl.list_hits(MaxResults=MAX_RESULTS)['HITs']\n",
    "print(len(hits))"
   ]
  },
  {
   "cell_type": "code",
   "execution_count": 42,
   "metadata": {},
   "outputs": [
    {
     "name": "stdout",
     "output_type": "stream",
     "text": [
      "3\n",
      "Title: Annotate the most important regions on graphic designs\n",
      "ID: 37VUR2VJ6AY7K9QQF727D9UTNKTC1S\n",
      "\tAssignments left: 1\n",
      "\tAssignments completed: 0\n",
      "\tAssignments pending: 0\n",
      "\tAssignments submitted: 0\n",
      "\tExpired: False\n",
      "\n",
      "Title: Annotate the most important regions on graphic designs\n",
      "ID: 3M4KL7H8KVWI4SHP5GP4R92JRYI61U\n",
      "\tAssignments left: 1\n",
      "\tAssignments completed: 0\n",
      "\tAssignments pending: 0\n",
      "\tAssignments submitted: 0\n",
      "\tExpired: True\n",
      "\n",
      "Title: Annotate the most important regions on graphic designs\n",
      "ID: 3BKZLF990Z884GBCWEABB1UKYK2QY8\n",
      "\tAssignments left: 1\n",
      "\tAssignments completed: 0\n",
      "\tAssignments pending: 0\n",
      "\tAssignments submitted: 0\n",
      "\tExpired: True\n",
      "\n",
      "\n"
     ]
    }
   ],
   "source": [
    "# Summarizes all outstanding HITs\n",
    "refresh_hits()\n",
    "summarize_hits(hits)"
   ]
  },
  {
   "cell_type": "code",
   "execution_count": 33,
   "metadata": {
    "scrolled": true
   },
   "outputs": [
    {
     "name": "stdout",
     "output_type": "stream",
     "text": [
      "HIT 37VUR2VJ6AY7K9QQF727D9UTNKTC1S: Annotate the most important regions on graphic designs\n",
      "\tNo pending/submitted/approved assignments for this HIT\n",
      "HIT 3M4KL7H8KVWI4SHP5GP4R92JRYI61U: Annotate the most important regions on graphic designs\n",
      "\tNo pending/submitted/approved assignments for this HIT\n",
      "HIT 3BKZLF990Z884GBCWEABB1UKYK2QY8: Annotate the most important regions on graphic designs\n",
      "\tNo pending/submitted/approved assignments for this HIT\n",
      "\n"
     ]
    }
   ],
   "source": [
    "# Summarizes assignments for all oustanding HITs \n",
    "summarize_assignments(hits)"
   ]
  },
  {
   "cell_type": "markdown",
   "metadata": {},
   "source": [
    "# APPROVE HITs #\n",
    "\n",
    "Approves all outstanding assignments for the HITs displayed above."
   ]
  },
  {
   "cell_type": "code",
   "execution_count": 34,
   "metadata": {},
   "outputs": [
    {
     "name": "stdout",
     "output_type": "stream",
     "text": [
      "Approved 0 assignments\n"
     ]
    }
   ],
   "source": [
    "def approve_all(hits): \n",
    "    num_approved = 0\n",
    "    for hit in hits: \n",
    "        # make sure you keep getting assignments \n",
    "        assignments = get_all_assignments(hit[\"HITId\"])\n",
    "        #print(assignments)\n",
    "        for a in assignments: \n",
    "            if a['AssignmentStatus'] != 'Approved':\n",
    "                print(\"Approving assignment\")\n",
    "                num_approved += 1\n",
    "                cl.approve_assignment(AssignmentId=a['AssignmentId'])\n",
    "    print(\"Approved %d assignments\" % num_approved)\n",
    "    \n",
    "\n",
    "refresh_hits()\n",
    "approve_all(hits)"
   ]
  },
  {
   "cell_type": "markdown",
   "metadata": {},
   "source": [
    "# Download data #\n",
    "Helper to download data from MTurk"
   ]
  },
  {
   "cell_type": "code",
   "execution_count": null,
   "metadata": {},
   "outputs": [],
   "source": [
    "def pretty_print(obj):\n",
    "    pp = pprint.PrettyPrinter(indent=4)\n",
    "    pp.pprint(obj)\n",
    "    pp = None\n",
    "\n",
    "# Downloads all the assignments completed for `hits` as a list of dictionaries. \n",
    "# If a download_path is given, also saves that data as json \n",
    "def get_assignment_content(hits, download_path=\"\", should_print=False): \n",
    "    all_responses = []\n",
    "    for hit in hits: \n",
    "        hitid = hit['HITId']\n",
    "        assignments = get_all_assignments(hitid)\n",
    "        for a in assignments:\n",
    "            a_xml = a['Answer']\n",
    "            #print(a_xml)\n",
    "            soup = bs(a_xml, \"html.parser\")\n",
    "            answers = soup.find_all(\"answer\")\n",
    "            #print(answers)\n",
    "            results = {'HITId': a['HITId'], 'AssignmentId': a['AssignmentId'], 'WorkerId': a['WorkerId']}\n",
    "            for ans in answers: \n",
    "                identifier = ans.find('questionidentifier').string\n",
    "                answer = ans.find('freetext').string\n",
    "                try: \n",
    "                    results[identifier] = json.loads(answer)\n",
    "                except:\n",
    "                    results[identifier] = answer\n",
    "            all_responses.append(results)\n",
    "    if should_print: \n",
    "        pretty_print(all_responses)\n",
    "    if download_path: \n",
    "        with open(download_path, 'w') as outfile: \n",
    "            json.dump(all_responses, outfile)\n",
    "    return all_responses"
   ]
  },
  {
   "cell_type": "code",
   "execution_count": null,
   "metadata": {},
   "outputs": [],
   "source": [
    "# Use this cell to download data\n",
    "responses = get_assignment_content(hits, download_path=SAVE_PATH, should_print=False)\n",
    "print('Individual assignments downloaded:',len(responses))"
   ]
  },
  {
   "cell_type": "code",
   "execution_count": null,
   "metadata": {},
   "outputs": [],
   "source": [
    "responses"
   ]
  },
  {
   "cell_type": "code",
   "execution_count": null,
   "metadata": {},
   "outputs": [],
   "source": [
    "# read in user data\n",
    "data = []\n",
    "for line in open(SAVE_PATH, 'r'):\n",
    "    data.append(json.loads(line))"
   ]
  },
  {
   "cell_type": "code",
   "execution_count": null,
   "metadata": {},
   "outputs": [],
   "source": [
    "data"
   ]
  },
  {
   "cell_type": "markdown",
   "metadata": {},
   "source": [
    "## SHOW RESULTS ##"
   ]
  },
  {
   "cell_type": "code",
   "execution_count": null,
   "metadata": {},
   "outputs": [],
   "source": [
    "import matplotlib.pyplot as plt"
   ]
  },
  {
   "cell_type": "code",
   "execution_count": null,
   "metadata": {},
   "outputs": [],
   "source": [
    "def visualize_multiple_results(results, load_from=None, idxs_to_skip=[]):\n",
    "    '''Shows HIT results in a grid. Rows: images of the HIT, Cols: different assignments or HITs.'''\n",
    "    \n",
    "    \n",
    "    plt.figure(figsize=(20,20))\n",
    "    i=0\n",
    "    c=0\n",
    "    for r in results:\n",
    "        hit_images = []\n",
    "        HITId, assigId, workerId, p_dict, feedback = extract_assig_info(r)\n",
    "        \n",
    "        for name, pts in tqdm(p_dict.items()):\n",
    "            c+=1\n",
    "            if c-1 in idxs_to_skip:\n",
    "                continue\n",
    "            i+=1\n",
    "            # Pts are dictionary of size, points\n",
    "            size = pts['size']\n",
    "            p = pts['points']\n",
    "\n",
    "            img = get_image_with_polygons(name, size, p, image_from_web=True)\n",
    "            \n",
    "            plt.subplot(len(results),len(p_dict)-len(idxs_to_skip),i)\n",
    "            plt.imshow(img)\n",
    "            plt.yticks([])\n",
    "            plt.xticks([])\n",
    "            plt.tight_layout()            \n",
    "        \n",
    "    plt.show()\n",
    "    \n",
    "\n",
    "def extract_assig_info(r):\n",
    "    HITId = r['HITId']\n",
    "    assigId = None #r['AssignmentId']\n",
    "    workerId = r['workerId']\n",
    "    polygons_images = r['results']['outputs'][0]\n",
    "    feedback = r['feedback']\n",
    "    \n",
    "    p_dict = {}\n",
    "    for polys in polygons_images:\n",
    "        data = polys.split(':')\n",
    "        \n",
    "        if len(data) == 2:\n",
    "            size_name_raw = data[0]\n",
    "            points_raw = data[1]\n",
    "        else:\n",
    "            size_name_raw = data[0]+':'+data[1]\n",
    "            points_raw = data[2]\n",
    "            \n",
    "        size_name = size_name_raw.split(',')\n",
    "        size = (int(float(size_name[0])),int(float(size_name[1])))\n",
    "        name = size_name[2]\n",
    "        \n",
    "#         print(size_name,name)\n",
    "        \n",
    "        p_dict[name] = dict(size=size, points=points_raw.split(';')[:-1])\n",
    "        \n",
    "    return HITId, assigId, workerId, p_dict, feedback\n",
    "    "
   ]
  },
  {
   "cell_type": "code",
   "execution_count": null,
   "metadata": {},
   "outputs": [],
   "source": [
    "# Visualize results of a HIT (can be done with get_masks_one_hit function too)\n",
    "visualize_multiple_results(data)"
   ]
  },
  {
   "cell_type": "markdown",
   "metadata": {},
   "source": [
    "# EXTRA FUNCTIONS #"
   ]
  },
  {
   "cell_type": "code",
   "execution_count": 23,
   "metadata": {},
   "outputs": [],
   "source": [
    "# changes the expiration date on a HIT to days_from_now days in the future\n",
    "def update_expiration(hitid, days_from_now): \n",
    "    if ALLOW_UPDATE_EXPIRATION: \n",
    "        days = days_from_now*datetime.timedelta(days=1)\n",
    "        expire_time = datetime.datetime.now() + days\n",
    "\n",
    "        response = cl.update_expiration_for_hit(HITId=hitid, ExpireAt=expire_time)\n",
    "        print(response)\n",
    "        return response\n",
    "    else: \n",
    "        raise RuntimeError(\"This action is not currently enabled; set `ALLOW_UPDATE_EXPIRATION` to true to proceed with this action\")\n",
    "    \n",
    "def expire_hit(hit): \n",
    "    return update_expiration(hit, -10)"
   ]
  },
  {
   "cell_type": "code",
   "execution_count": 25,
   "metadata": {},
   "outputs": [
    {
     "name": "stdout",
     "output_type": "stream",
     "text": [
      "{'ResponseMetadata': {'RequestId': '6c720bf3-8ffc-48fa-be3b-4b68c61321cf', 'HTTPStatusCode': 200, 'HTTPHeaders': {'x-amzn-requestid': '6c720bf3-8ffc-48fa-be3b-4b68c61321cf', 'content-type': 'application/x-amz-json-1.1', 'content-length': '2', 'date': 'Wed, 29 May 2019 15:55:03 GMT'}, 'RetryAttempts': 0}}\n",
      "{'ResponseMetadata': {'RequestId': '31c5257c-fb60-4910-8466-e38c12b02ca7', 'HTTPStatusCode': 200, 'HTTPHeaders': {'x-amzn-requestid': '31c5257c-fb60-4910-8466-e38c12b02ca7', 'content-type': 'application/x-amz-json-1.1', 'content-length': '2', 'date': 'Wed, 29 May 2019 15:55:03 GMT'}, 'RetryAttempts': 0}}\n",
      "{'ResponseMetadata': {'RequestId': '33725c47-2151-41e0-90c1-691d146e8359', 'HTTPStatusCode': 200, 'HTTPHeaders': {'x-amzn-requestid': '33725c47-2151-41e0-90c1-691d146e8359', 'content-type': 'application/x-amz-json-1.1', 'content-length': '2', 'date': 'Wed, 29 May 2019 15:55:03 GMT'}, 'RetryAttempts': 0}}\n"
     ]
    }
   ],
   "source": [
    "EXPIRE_ALL_HITS = True\n",
    "\n",
    "# Use this cell to expire all HITs\n",
    "if EXPIRE_ALL_HITS:\n",
    "    hits = get_hits(max_results=MAX_RESULTS) \n",
    "    for hit in hits: \n",
    "        HIT_id_to_expire = hit['HITId']\n",
    "        expire_hit(HIT_id_to_expire)\n",
    "else:\n",
    "    HIT_id_to_expire = \"3R5OYNIC2CIRNIB3MVDXXXWT6GHPTP\" \n",
    "    expire_hit(HIT_id_to_expire)"
   ]
  },
  {
   "cell_type": "code",
   "execution_count": null,
   "metadata": {},
   "outputs": [],
   "source": []
  }
 ],
 "metadata": {
  "kernelspec": {
   "display_name": "Python 3",
   "language": "python",
   "name": "python3"
  },
  "language_info": {
   "codemirror_mode": {
    "name": "ipython",
    "version": 3
   },
   "file_extension": ".py",
   "mimetype": "text/x-python",
   "name": "python",
   "nbconvert_exporter": "python",
   "pygments_lexer": "ipython3",
   "version": "3.7.3"
  }
 },
 "nbformat": 4,
 "nbformat_minor": 2
}
